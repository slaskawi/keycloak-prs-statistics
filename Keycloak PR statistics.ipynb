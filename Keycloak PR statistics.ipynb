{
 "cells": [
  {
   "cell_type": "code",
   "execution_count": 2,
   "metadata": {},
   "outputs": [],
   "source": [
    "import pandas as pd\n",
    "import pandas_profiling as pp\n",
    "import matplotlib.pyplot as plt\n",
    "import seaborn as sns\n",
    "import github as gh\n",
    "sns.set()\n",
    "%matplotlib inline"
   ]
  },
  {
   "cell_type": "code",
   "execution_count": 3,
   "metadata": {},
   "outputs": [],
   "source": [
    "g = gh.Github(\"<token>\")"
   ]
  },
  {
   "cell_type": "code",
   "execution_count": 4,
   "metadata": {},
   "outputs": [],
   "source": [
    "repos = g.get_organization(\"keycloak\").get_repos()"
   ]
  },
  {
   "cell_type": "code",
   "execution_count": 5,
   "metadata": {},
   "outputs": [],
   "source": [
    "df = pd.DataFrame(columns=[\"Repo\", \"Pull Request ID\", \"Pull Request Title\", \"Author\", \"Created At\", \"Number of review comments\", \"Assignee\"])"
   ]
  },
  {
   "cell_type": "code",
   "execution_count": 6,
   "metadata": {},
   "outputs": [],
   "source": [
    "for r in repos:\n",
    "    for index, p in enumerate(r.get_pulls(state='open', sort='created', base='master')):\n",
    "        df.loc[index] = [r.full_name, p.number, p.title, p.user.login, p.created_at, len(list(p.get_comments())), \"None\" if p.assignee is None else p.assignee.login]"
   ]
  },
  {
   "cell_type": "code",
   "execution_count": 7,
   "metadata": {},
   "outputs": [
    {
     "data": {
      "text/html": [
       "<div>\n",
       "<style scoped>\n",
       "    .dataframe tbody tr th:only-of-type {\n",
       "        vertical-align: middle;\n",
       "    }\n",
       "\n",
       "    .dataframe tbody tr th {\n",
       "        vertical-align: top;\n",
       "    }\n",
       "\n",
       "    .dataframe thead th {\n",
       "        text-align: right;\n",
       "    }\n",
       "</style>\n",
       "<table border=\"1\" class=\"dataframe\">\n",
       "  <thead>\n",
       "    <tr style=\"text-align: right;\">\n",
       "      <th></th>\n",
       "      <th>Repo</th>\n",
       "      <th>Pull Request ID</th>\n",
       "      <th>Pull Request Title</th>\n",
       "      <th>Author</th>\n",
       "      <th>Created At</th>\n",
       "      <th>Number of review comments</th>\n",
       "      <th>Assignee</th>\n",
       "      <th>tmp</th>\n",
       "      <th>In the queue</th>\n",
       "    </tr>\n",
       "  </thead>\n",
       "  <tbody>\n",
       "    <tr>\n",
       "      <th>0</th>\n",
       "      <td>keycloak/keycloak-operator</td>\n",
       "      <td>108</td>\n",
       "      <td>KEYCLOAK-12273 Keycloak Operator documentation</td>\n",
       "      <td>slaskawi</td>\n",
       "      <td>2019-12-06 07:33:26</td>\n",
       "      <td>0</td>\n",
       "      <td>abstractj</td>\n",
       "      <td>2019-12-06</td>\n",
       "      <td>94</td>\n",
       "    </tr>\n",
       "    <tr>\n",
       "      <th>1</th>\n",
       "      <td>keycloak/keycloak-operator</td>\n",
       "      <td>122</td>\n",
       "      <td>Extra volumes</td>\n",
       "      <td>pb82</td>\n",
       "      <td>2020-01-17 15:09:37</td>\n",
       "      <td>9</td>\n",
       "      <td>stianst</td>\n",
       "      <td>2020-01-17</td>\n",
       "      <td>52</td>\n",
       "    </tr>\n",
       "    <tr>\n",
       "      <th>2</th>\n",
       "      <td>keycloak/keycloak-operator</td>\n",
       "      <td>130</td>\n",
       "      <td>KEYCLOAK-12409: allow image overrides</td>\n",
       "      <td>JiyeYu</td>\n",
       "      <td>2020-02-03 07:14:14</td>\n",
       "      <td>10</td>\n",
       "      <td>None</td>\n",
       "      <td>2020-02-03</td>\n",
       "      <td>35</td>\n",
       "    </tr>\n",
       "    <tr>\n",
       "      <th>3</th>\n",
       "      <td>keycloak/keycloak-operator</td>\n",
       "      <td>139</td>\n",
       "      <td>KEYCLOAK-12983: Make Ingress Definition Config...</td>\n",
       "      <td>roberth1988</td>\n",
       "      <td>2020-02-12 16:16:00</td>\n",
       "      <td>2</td>\n",
       "      <td>None</td>\n",
       "      <td>2020-02-12</td>\n",
       "      <td>26</td>\n",
       "    </tr>\n",
       "    <tr>\n",
       "      <th>4</th>\n",
       "      <td>keycloak/keycloak-operator</td>\n",
       "      <td>140</td>\n",
       "      <td>KEYCLOAK-12787: Fix external Database Support</td>\n",
       "      <td>roberth1988</td>\n",
       "      <td>2020-02-12 16:29:33</td>\n",
       "      <td>0</td>\n",
       "      <td>None</td>\n",
       "      <td>2020-02-12</td>\n",
       "      <td>26</td>\n",
       "    </tr>\n",
       "    <tr>\n",
       "      <th>...</th>\n",
       "      <td>...</td>\n",
       "      <td>...</td>\n",
       "      <td>...</td>\n",
       "      <td>...</td>\n",
       "      <td>...</td>\n",
       "      <td>...</td>\n",
       "      <td>...</td>\n",
       "      <td>...</td>\n",
       "      <td>...</td>\n",
       "    </tr>\n",
       "    <tr>\n",
       "      <th>60</th>\n",
       "      <td>keycloak/keycloak</td>\n",
       "      <td>6875</td>\n",
       "      <td>KEYCLOAK-13246 Update Italian translations</td>\n",
       "      <td>axl8713</td>\n",
       "      <td>2020-03-06 16:09:26</td>\n",
       "      <td>0</td>\n",
       "      <td>None</td>\n",
       "      <td>2020-03-06</td>\n",
       "      <td>3</td>\n",
       "    </tr>\n",
       "    <tr>\n",
       "      <th>61</th>\n",
       "      <td>keycloak/keycloak</td>\n",
       "      <td>6876</td>\n",
       "      <td>KEYCLOAK-13253 read rpId from policy in WebAut...</td>\n",
       "      <td>phy25</td>\n",
       "      <td>2020-03-07 04:51:02</td>\n",
       "      <td>0</td>\n",
       "      <td>None</td>\n",
       "      <td>2020-03-07</td>\n",
       "      <td>2</td>\n",
       "    </tr>\n",
       "    <tr>\n",
       "      <th>62</th>\n",
       "      <td>keycloak/keycloak</td>\n",
       "      <td>6877</td>\n",
       "      <td>Update user-credentials.html</td>\n",
       "      <td>carlosen14</td>\n",
       "      <td>2020-03-07 18:39:46</td>\n",
       "      <td>0</td>\n",
       "      <td>None</td>\n",
       "      <td>2020-03-07</td>\n",
       "      <td>2</td>\n",
       "    </tr>\n",
       "    <tr>\n",
       "      <th>63</th>\n",
       "      <td>keycloak/keycloak</td>\n",
       "      <td>6879</td>\n",
       "      <td>KEYCLOAK-13260 Fix \"Test authentication\" butto...</td>\n",
       "      <td>vmuzikar</td>\n",
       "      <td>2020-03-09 11:21:04</td>\n",
       "      <td>0</td>\n",
       "      <td>None</td>\n",
       "      <td>2020-03-09</td>\n",
       "      <td>0</td>\n",
       "    </tr>\n",
       "    <tr>\n",
       "      <th>64</th>\n",
       "      <td>keycloak/keycloak</td>\n",
       "      <td>6880</td>\n",
       "      <td>KEYCLOAK-13256  KEYCLOAK-13257 Fix test failu...</td>\n",
       "      <td>vmuzikar</td>\n",
       "      <td>2020-03-09 11:33:59</td>\n",
       "      <td>0</td>\n",
       "      <td>abstractj</td>\n",
       "      <td>2020-03-09</td>\n",
       "      <td>0</td>\n",
       "    </tr>\n",
       "  </tbody>\n",
       "</table>\n",
       "<p>65 rows × 9 columns</p>\n",
       "</div>"
      ],
      "text/plain": [
       "                          Repo  Pull Request ID  \\\n",
       "0   keycloak/keycloak-operator              108   \n",
       "1   keycloak/keycloak-operator              122   \n",
       "2   keycloak/keycloak-operator              130   \n",
       "3   keycloak/keycloak-operator              139   \n",
       "4   keycloak/keycloak-operator              140   \n",
       "..                         ...              ...   \n",
       "60           keycloak/keycloak             6875   \n",
       "61           keycloak/keycloak             6876   \n",
       "62           keycloak/keycloak             6877   \n",
       "63           keycloak/keycloak             6879   \n",
       "64           keycloak/keycloak             6880   \n",
       "\n",
       "                                   Pull Request Title       Author  \\\n",
       "0      KEYCLOAK-12273 Keycloak Operator documentation     slaskawi   \n",
       "1                                       Extra volumes         pb82   \n",
       "2               KEYCLOAK-12409: allow image overrides       JiyeYu   \n",
       "3   KEYCLOAK-12983: Make Ingress Definition Config...  roberth1988   \n",
       "4       KEYCLOAK-12787: Fix external Database Support  roberth1988   \n",
       "..                                                ...          ...   \n",
       "60         KEYCLOAK-13246 Update Italian translations      axl8713   \n",
       "61  KEYCLOAK-13253 read rpId from policy in WebAut...        phy25   \n",
       "62                       Update user-credentials.html   carlosen14   \n",
       "63  KEYCLOAK-13260 Fix \"Test authentication\" butto...     vmuzikar   \n",
       "64   KEYCLOAK-13256  KEYCLOAK-13257 Fix test failu...     vmuzikar   \n",
       "\n",
       "            Created At  Number of review comments   Assignee         tmp  \\\n",
       "0  2019-12-06 07:33:26                          0  abstractj  2019-12-06   \n",
       "1  2020-01-17 15:09:37                          9    stianst  2020-01-17   \n",
       "2  2020-02-03 07:14:14                         10       None  2020-02-03   \n",
       "3  2020-02-12 16:16:00                          2       None  2020-02-12   \n",
       "4  2020-02-12 16:29:33                          0       None  2020-02-12   \n",
       "..                 ...                        ...        ...         ...   \n",
       "60 2020-03-06 16:09:26                          0       None  2020-03-06   \n",
       "61 2020-03-07 04:51:02                          0       None  2020-03-07   \n",
       "62 2020-03-07 18:39:46                          0       None  2020-03-07   \n",
       "63 2020-03-09 11:21:04                          0       None  2020-03-09   \n",
       "64 2020-03-09 11:33:59                          0  abstractj  2020-03-09   \n",
       "\n",
       "    In the queue  \n",
       "0             94  \n",
       "1             52  \n",
       "2             35  \n",
       "3             26  \n",
       "4             26  \n",
       "..           ...  \n",
       "60             3  \n",
       "61             2  \n",
       "62             2  \n",
       "63             0  \n",
       "64             0  \n",
       "\n",
       "[65 rows x 9 columns]"
      ]
     },
     "execution_count": 7,
     "metadata": {},
     "output_type": "execute_result"
    }
   ],
   "source": [
    "df[\"Created At\"]=pd.to_datetime(df[\"Created At\"])\n",
    "df['tmp'] = pd.to_datetime(df[\"Created At\"]).dt.date\n",
    "df['In the queue'] = abs((df['tmp'] - pd.datetime.now().date()).dt.days)\n",
    "df.drop(columns=['tmp'])\n",
    "df"
   ]
  },
  {
   "cell_type": "code",
   "execution_count": 8,
   "metadata": {},
   "outputs": [
    {
     "data": {
      "text/html": [
       "<div>\n",
       "<style scoped>\n",
       "    .dataframe tbody tr th:only-of-type {\n",
       "        vertical-align: middle;\n",
       "    }\n",
       "\n",
       "    .dataframe tbody tr th {\n",
       "        vertical-align: top;\n",
       "    }\n",
       "\n",
       "    .dataframe thead th {\n",
       "        text-align: right;\n",
       "    }\n",
       "</style>\n",
       "<table border=\"1\" class=\"dataframe\">\n",
       "  <thead>\n",
       "    <tr style=\"text-align: right;\">\n",
       "      <th></th>\n",
       "      <th>Pull Request ID</th>\n",
       "      <th>Number of review comments</th>\n",
       "      <th>In the queue</th>\n",
       "    </tr>\n",
       "  </thead>\n",
       "  <tbody>\n",
       "    <tr>\n",
       "      <th>count</th>\n",
       "      <td>65.000000</td>\n",
       "      <td>65.000000</td>\n",
       "      <td>65.000000</td>\n",
       "    </tr>\n",
       "    <tr>\n",
       "      <th>mean</th>\n",
       "      <td>4588.523077</td>\n",
       "      <td>1.430769</td>\n",
       "      <td>16.692308</td>\n",
       "    </tr>\n",
       "    <tr>\n",
       "      <th>std</th>\n",
       "      <td>3047.078278</td>\n",
       "      <td>3.191636</td>\n",
       "      <td>15.984292</td>\n",
       "    </tr>\n",
       "    <tr>\n",
       "      <th>min</th>\n",
       "      <td>108.000000</td>\n",
       "      <td>0.000000</td>\n",
       "      <td>0.000000</td>\n",
       "    </tr>\n",
       "    <tr>\n",
       "      <th>25%</th>\n",
       "      <td>859.000000</td>\n",
       "      <td>0.000000</td>\n",
       "      <td>5.000000</td>\n",
       "    </tr>\n",
       "    <tr>\n",
       "      <th>50%</th>\n",
       "      <td>6765.000000</td>\n",
       "      <td>0.000000</td>\n",
       "      <td>13.000000</td>\n",
       "    </tr>\n",
       "    <tr>\n",
       "      <th>75%</th>\n",
       "      <td>6853.000000</td>\n",
       "      <td>1.000000</td>\n",
       "      <td>26.000000</td>\n",
       "    </tr>\n",
       "    <tr>\n",
       "      <th>max</th>\n",
       "      <td>6880.000000</td>\n",
       "      <td>15.000000</td>\n",
       "      <td>94.000000</td>\n",
       "    </tr>\n",
       "  </tbody>\n",
       "</table>\n",
       "</div>"
      ],
      "text/plain": [
       "       Pull Request ID  Number of review comments  In the queue\n",
       "count        65.000000                  65.000000     65.000000\n",
       "mean       4588.523077                   1.430769     16.692308\n",
       "std        3047.078278                   3.191636     15.984292\n",
       "min         108.000000                   0.000000      0.000000\n",
       "25%         859.000000                   0.000000      5.000000\n",
       "50%        6765.000000                   0.000000     13.000000\n",
       "75%        6853.000000                   1.000000     26.000000\n",
       "max        6880.000000                  15.000000     94.000000"
      ]
     },
     "execution_count": 8,
     "metadata": {},
     "output_type": "execute_result"
    }
   ],
   "source": [
    "df.describe()"
   ]
  },
  {
   "cell_type": "code",
   "execution_count": 9,
   "metadata": {},
   "outputs": [
    {
     "data": {
      "text/plain": [
       "<matplotlib.axes._subplots.AxesSubplot at 0x7ffb3ab61610>"
      ]
     },
     "execution_count": 9,
     "metadata": {},
     "output_type": "execute_result"
    },
    {
     "data": {
      "image/png": "[encoded data removed]",
      "text/plain": [
       "<Figure size 432x288 with 1 Axes>"
      ]
     },
     "metadata": {
      "needs_background": "light"
     },
     "output_type": "display_data"
    }
   ],
   "source": [
    "df[\"Assignee\"].value_counts().plot(kind=\"bar\")"
   ]
  },
  {
   "cell_type": "code",
   "execution_count": 10,
   "metadata": {},
   "outputs": [
    {
     "data": {
      "text/plain": [
       "<matplotlib.axes._subplots.AxesSubplot at 0x7ffb3aaec790>"
      ]
     },
     "execution_count": 10,
     "metadata": {},
     "output_type": "execute_result"
    },
    {
     "data": {
      "image/png": "[encoded data removed]",
      "text/plain": [
       "<Figure size 432x288 with 1 Axes>"
      ]
     },
     "metadata": {
      "needs_background": "light"
     },
     "output_type": "display_data"
    }
   ],
   "source": [
    "df[\"Author\"].value_counts().plot(kind=\"bar\")"
   ]
  },
  {
   "cell_type": "code",
   "execution_count": 11,
   "metadata": {},
   "outputs": [
    {
     "data": {
      "text/plain": [
       "andymunro         False\n",
       "thomasdarimont    False\n",
       "stianst           False\n",
       "slaskawi          False\n",
       "tnorimat          False\n",
       "roberth1988       False\n",
       "edewit            False\n",
       "dteleguin         False\n",
       "vmuzikar          False\n",
       "mposolda          False\n",
       "ssilvert          False\n",
       "pedroigor         False\n",
       "y-tabata          False\n",
       "drichtarik         True\n",
       "sschu              True\n",
       "pb82               True\n",
       "nngo               True\n",
       "seanmmccormick     True\n",
       "alvarogimenez      True\n",
       "Neutius            True\n",
       "carlosen14         True\n",
       "phy25              True\n",
       "JiyeYu             True\n",
       "rmartinc           True\n",
       "EpicEric           True\n",
       "JameelB            True\n",
       "hmlnarik           True\n",
       "slmagus            True\n",
       "sergioifg94        True\n",
       "vramik             True\n",
       "alborrajo          True\n",
       "Martin-Idel-SI     True\n",
       "axl8713            True\n",
       "Name: Author, dtype: bool"
      ]
     },
     "execution_count": 11,
     "metadata": {},
     "output_type": "execute_result"
    }
   ],
   "source": [
    "df.Author.value_counts() == 1\n",
    "\n",
    "# mask = df.Author-01-01'\n",
    "\n",
    "# df.Author.value_counts() == 1\n",
    "# mask"
   ]
  },
  {
   "cell_type": "code",
   "execution_count": 12,
   "metadata": {},
   "outputs": [
    {
     "name": "stderr",
     "output_type": "stream",
     "text": [
      "/usr/lib64/python3.7/site-packages/pandas/core/groupby/generic.py:1455: FutureWarning: using a dict with renaming is deprecated and will be removed\n",
      "in a future version.\n",
      "\n",
      "For column-specific groupby renaming, use named aggregation\n",
      "\n",
      "    >>> df.groupby(...).agg(name=('column', aggfunc))\n",
      "\n",
      "  return super().aggregate(arg, *args, **kwargs)\n"
     ]
    },
    {
     "data": {
      "text/plain": [
       "<matplotlib.axes._subplots.AxesSubplot at 0x7ffb4f62c550>"
      ]
     },
     "execution_count": 12,
     "metadata": {},
     "output_type": "execute_result"
    },
    {
     "data": {
      "image/png": "[encoded data removed]",
      "text/plain": [
       "<Figure size 432x288 with 1 Axes>"
      ]
     },
     "metadata": {
      "needs_background": "light"
     },
     "output_type": "display_data"
    }
   ],
   "source": [
    "aggregation={\n",
    "         \"In the queue\":\n",
    "    {\n",
    "#         \"MIN\": lambda x: x.min(skipna=True),\n",
    "        \"MAX\":lambda x: x.max(skipna=True),\n",
    "        \"MEDIAN\":lambda x:x.median(skipna=True)\n",
    "    }\n",
    "}\n",
    "df[['Assignee', \"In the queue\"]].groupby(['Assignee']).agg(aggregation).plot(kind=\"bar\")"
   ]
  },
  {
   "cell_type": "code",
   "execution_count": 13,
   "metadata": {},
   "outputs": [
    {
     "data": {
      "text/plain": [
       "<matplotlib.axes._subplots.AxesSubplot at 0x7ffb3a962510>"
      ]
     },
     "execution_count": 13,
     "metadata": {},
     "output_type": "execute_result"
    },
    {
     "data": {
      "image/png": "[encoded data removed]",
      "text/plain": [
       "<Figure size 432x288 with 1 Axes>"
      ]
     },
     "metadata": {
      "needs_background": "light"
     },
     "output_type": "display_data"
    }
   ],
   "source": [
    "df[\"Assignee\"].value_counts().plot(kind=\"bar\")"
   ]
  },
  {
   "cell_type": "code",
   "execution_count": 14,
   "metadata": {},
   "outputs": [
    {
     "data": {
      "text/plain": [
       "<matplotlib.axes._subplots.AxesSubplot at 0x7ffb3ac98910>"
      ]
     },
     "execution_count": 14,
     "metadata": {},
     "output_type": "execute_result"
    },
    {
     "data": {
      "image/png": "[encoded data removed]",
      "text/plain": [
       "<Figure size 432x288 with 1 Axes>"
      ]
     },
     "metadata": {
      "needs_background": "light"
     },
     "output_type": "display_data"
    }
   ],
   "source": [
    "buckets = df[\"In the queue\"].max()\n",
    "df[\"In the queue\"].hist(bins=buckets)"
   ]
  },
  {
   "cell_type": "code",
   "execution_count": null,
   "metadata": {},
   "outputs": [],
   "source": []
  }
 ],
 "metadata": {
  "kernelspec": {
   "display_name": "Python 3",
   "language": "python",
   "name": "python3"
  },
  "language_info": {
   "codemirror_mode": {
    "name": "ipython",
    "version": 3
   },
   "file_extension": ".py",
   "mimetype": "text/x-python",
   "name": "python",
   "nbconvert_exporter": "python",
   "pygments_lexer": "ipython3",
   "version": "3.7.6"
  }
 },
 "nbformat": 4,
 "nbformat_minor": 4
}
